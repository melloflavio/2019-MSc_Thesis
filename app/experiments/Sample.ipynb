{
 "cells": [
  {
   "cell_type": "markdown",
   "metadata": {},
   "source": [
    "## Current Python Version\n",
    "\n",
    "Ensure the python version running in the jupyter kernel is the same as expected"
   ]
  },
  {
   "cell_type": "code",
   "execution_count": 1,
   "metadata": {},
   "outputs": [
    {
     "name": "stdout",
     "output_type": "stream",
     "text": [
      "3.7.3\n"
     ]
    }
   ],
   "source": [
    "from platform import python_version\n",
    "\n",
    "print(python_version())"
   ]
  },
  {
   "cell_type": "markdown",
   "metadata": {},
   "source": [
    "List installed packages, should match the ones in the pipfile (and their dependencies)"
   ]
  },
  {
   "cell_type": "code",
   "execution_count": 2,
   "metadata": {},
   "outputs": [
    {
     "name": "stdout",
     "output_type": "stream",
     "text": [
      "Package             Version\n",
      "------------------- -------\n",
      "astroid             2.2.5  \n",
      "attrs               19.1.0 \n",
      "backcall            0.1.0  \n",
      "bleach              3.1.0  \n",
      "cycler              0.10.0 \n",
      "decorator           4.4.0  \n",
      "defusedxml          0.6.0  \n",
      "entrypoints         0.3    \n",
      "ipykernel           5.1.1  \n",
      "ipython             7.7.0  \n",
      "ipython-genutils    0.2.0  \n",
      "ipywidgets          7.5.1  \n",
      "isort               4.3.21 \n",
      "jedi                0.14.1 \n",
      "Jinja2              2.10.1 \n",
      "jsonschema          3.0.1  \n",
      "jupyter             1.0.0  \n",
      "jupyter-client      5.3.1  \n",
      "jupyter-console     6.0.0  \n",
      "jupyter-core        4.5.0  \n",
      "kiwisolver          1.1.0  \n",
      "lazy-object-proxy   1.4.1  \n",
      "MarkupSafe          1.1.1  \n",
      "matplotlib          3.1.1  \n",
      "mccabe              0.6.1  \n",
      "mistune             0.8.4  \n",
      "nbconvert           5.5.0  \n",
      "nbformat            4.4.0  \n",
      "notebook            6.0.0  \n",
      "numpy               1.17.0 \n",
      "pandas              0.25.0 \n",
      "pandocfilters       1.4.2  \n",
      "parso               0.5.1  \n",
      "pexpect             4.7.0  \n",
      "pickleshare         0.7.5  \n",
      "pip                 19.1.1 \n",
      "prometheus-client   0.7.1  \n",
      "prompt-toolkit      2.0.9  \n",
      "ptyprocess          0.6.0  \n",
      "pydash              4.7.5  \n",
      "Pygments            2.4.2  \n",
      "pylint              2.3.1  \n",
      "pyparsing           2.4.1.1\n",
      "pyrsistent          0.15.4 \n",
      "python-dateutil     2.8.0  \n",
      "pytz                2019.1 \n",
      "pyzmq               18.0.2 \n",
      "qtconsole           4.5.2  \n",
      "scipy               1.3.0  \n",
      "Send2Trash          1.5.0  \n",
      "setuptools          41.0.1 \n",
      "singleton-decorator 1.0.0  \n",
      "six                 1.12.0 \n",
      "terminado           0.8.2  \n",
      "testpath            0.4.2  \n",
      "tornado             6.0.3  \n",
      "traitlets           4.3.2  \n",
      "typed-ast           1.4.0  \n",
      "wcwidth             0.1.7  \n",
      "webencodings        0.5.1  \n",
      "wheel               0.33.4 \n",
      "widgetsnbextension  3.5.1  \n",
      "wrapt               1.11.2 \n",
      "Note: you may need to restart the kernel to use updated packages.\n"
     ]
    }
   ],
   "source": [
    "pip list"
   ]
  },
  {
   "cell_type": "markdown",
   "metadata": {},
   "source": [
    "## Internal Module Imports\n",
    "Code required to enable project's internally defined modulos into the jupyter notebook environment"
   ]
  },
  {
   "cell_type": "code",
   "execution_count": 3,
   "metadata": {},
   "outputs": [],
   "source": [
    "import os\n",
    "import sys\n",
    "module_path = os.path.abspath(os.path.join('..'))\n",
    "if module_path not in sys.path:\n",
    "    sys.path.append(module_path)"
   ]
  },
  {
   "cell_type": "code",
   "execution_count": 4,
   "metadata": {},
   "outputs": [],
   "source": [
    "from electricity import ElectricalSystem, Load, Generator\n",
    "from dto import SystemHistory, NodeStatePower, COST_PRESETS"
   ]
  },
  {
   "cell_type": "markdown",
   "metadata": {},
   "source": [
    "Initialize electrical system with generators and loads"
   ]
  },
  {
   "cell_type": "code",
   "execution_count": 5,
   "metadata": {},
   "outputs": [],
   "source": [
    "elecSys = ElectricalSystem(50, [Load(\"L1\", 3.15)], [\n",
    "    Generator(\"G1\", 1.5, COST_PRESETS.COAL, minPower=0.1, maxPower=6.0),\n",
    "    Generator(\"G2\", 1.5, COST_PRESETS.OIL, minPower=0.1, maxPower=4.0),\n",
    "    ])"
   ]
  },
  {
   "cell_type": "markdown",
   "metadata": {},
   "source": [
    "Send multiple updates (manually)"
   ]
  },
  {
   "cell_type": "code",
   "execution_count": 6,
   "metadata": {},
   "outputs": [],
   "source": [
    "elecSys.updateGenerators([NodeStatePower(id_='G1', power=1.4), NodeStatePower(id_='G2', power=1.6)])\n",
    "elecSys.updateGenerators([NodeStatePower(id_='G1', power=1.3), NodeStatePower(id_='G2', power=1.7)])\n",
    "elecSys.updateGenerators([NodeStatePower(id_='G1', power=1.2), NodeStatePower(id_='G2', power=1.8)])\n",
    "elecSys.updateGenerators([NodeStatePower(id_='G1', power=1.1), NodeStatePower(id_='G2', power=1.9)])\n",
    "elecSys.updateGenerators([NodeStatePower(id_='G1', power=1.18), NodeStatePower(id_='G2', power=2)])"
   ]
  },
  {
   "cell_type": "raw",
   "metadata": {},
   "source": [
    "Print out history values for inspection"
   ]
  },
  {
   "cell_type": "code",
   "execution_count": 14,
   "metadata": {},
   "outputs": [
    {
     "name": "stdout",
     "output_type": "stream",
     "text": [
      "SystemHistory(totalPower=[3.0, 3.0, 3.5, 2.736666666666666, 3.496022222222224, 2.962566074074071], frequency=[50, 48.5, 52.24, 47.74826666666666, 51.56876622222224, 49.44342436740739], generators={'G1': [1.5, 1.4, 1.3, 1.2, 1.1, 1.18], 'G2': [1.5, 1.6, 1.7, 1.8, 1.9, 2]}, loads={'L1': [3.15, 3.15, 3.15, 3.15, 3.15, 3.15]}, actualCosts={'G1': [520.803195, 520.0827832, 519.3623998, 518.6420448, 517.9217182, 518.497977208], 'G2': [321.779365, 322.5649664, 323.35060660000005, 324.1362856, 324.9220034, 325.70776]}, optimalCosts={'G1': [2.9, 2.9, 2.9000000000000004, 2.9000000000000004, 3.08], 'G2': [0.10000000000000009, 0.10000000000000009, 0.09999999999999987, 0.09999999999999964, 0.09999999999999987]}, totalCosts={'Minimum': [841.6769616, 841.6769616, 841.6769616, 841.6769616, 842.974490088], 'Actual': [842.6477496, 842.7130064, 842.7783304, 842.8437216, 844.205737208]})\n"
     ]
    }
   ],
   "source": [
    "print(SystemHistory())"
   ]
  },
  {
   "cell_type": "markdown",
   "metadata": {},
   "source": [
    "Or, even better, **pretty** print the history values for further inspection"
   ]
  },
  {
   "cell_type": "code",
   "execution_count": 15,
   "metadata": {},
   "outputs": [
    {
     "name": "stdout",
     "output_type": "stream",
     "text": [
      "{'actualCosts': {'G1': [520.803195,\n",
      "                        520.0827832,\n",
      "                        519.3623998,\n",
      "                        518.6420448,\n",
      "                        517.9217182,\n",
      "                        518.497977208],\n",
      "                 'G2': [321.779365,\n",
      "                        322.5649664,\n",
      "                        323.35060660000005,\n",
      "                        324.1362856,\n",
      "                        324.9220034,\n",
      "                        325.70776]},\n",
      " 'frequency': [50,\n",
      "               48.5,\n",
      "               52.24,\n",
      "               47.74826666666666,\n",
      "               51.56876622222224,\n",
      "               49.44342436740739],\n",
      " 'generators': {'G1': [1.5, 1.4, 1.3, 1.2, 1.1, 1.18],\n",
      "                'G2': [1.5, 1.6, 1.7, 1.8, 1.9, 2]},\n",
      " 'loads': {'L1': [3.15, 3.15, 3.15, 3.15, 3.15, 3.15]},\n",
      " 'optimalCosts': {'G1': [2.9,\n",
      "                         2.9,\n",
      "                         2.9000000000000004,\n",
      "                         2.9000000000000004,\n",
      "                         3.08],\n",
      "                  'G2': [0.10000000000000009,\n",
      "                         0.10000000000000009,\n",
      "                         0.09999999999999987,\n",
      "                         0.09999999999999964,\n",
      "                         0.09999999999999987]},\n",
      " 'totalCosts': {'Actual': [842.6477496,\n",
      "                           842.7130064,\n",
      "                           842.7783304,\n",
      "                           842.8437216,\n",
      "                           844.205737208],\n",
      "                'Minimum': [841.6769616,\n",
      "                            841.6769616,\n",
      "                            841.6769616,\n",
      "                            841.6769616,\n",
      "                            842.974490088]},\n",
      " 'totalPower': [3.0,\n",
      "                3.0,\n",
      "                3.5,\n",
      "                2.736666666666666,\n",
      "                3.496022222222224,\n",
      "                2.962566074074071]}\n"
     ]
    }
   ],
   "source": [
    "from pprint import pprint\n",
    "pprint(dict(SystemHistory()._asdict()))"
   ]
  },
  {
   "cell_type": "code",
   "execution_count": null,
   "metadata": {},
   "outputs": [],
   "source": []
  },
  {
   "cell_type": "code",
   "execution_count": null,
   "metadata": {},
   "outputs": [],
   "source": []
  }
 ],
 "metadata": {
  "kernelspec": {
   "display_name": "2019-MSc_Thesis-4pUnri4s",
   "language": "python",
   "name": "2019-msc_thesis-4punri4s"
  },
  "language_info": {
   "codemirror_mode": {
    "name": "ipython",
    "version": 3
   },
   "file_extension": ".py",
   "mimetype": "text/x-python",
   "name": "python",
   "nbconvert_exporter": "python",
   "pygments_lexer": "ipython3",
   "version": "3.7.3"
  }
 },
 "nbformat": 4,
 "nbformat_minor": 2
}
