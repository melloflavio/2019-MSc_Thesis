{
 "cells": [
  {
   "cell_type": "markdown",
   "metadata": {},
   "source": [
    "## Current Python Version\n",
    "\n",
    "Ensure the python version running in the jupyter kernel is the same as expected"
   ]
  },
  {
   "cell_type": "code",
   "execution_count": 1,
   "metadata": {},
   "outputs": [
    {
     "name": "stdout",
     "output_type": "stream",
     "text": [
      "3.7.3\n"
     ]
    }
   ],
   "source": [
    "from platform import python_version\n",
    "\n",
    "print(python_version())"
   ]
  },
  {
   "cell_type": "markdown",
   "metadata": {},
   "source": [
    "List installed packages, should match the ones in the pipfile (and their dependencies)"
   ]
  },
  {
   "cell_type": "code",
   "execution_count": 2,
   "metadata": {},
   "outputs": [
    {
     "name": "stdout",
     "output_type": "stream",
     "text": [
      "Package             Version\n",
      "------------------- -------\n",
      "attrs               19.1.0 \n",
      "backcall            0.1.0  \n",
      "bleach              3.1.0  \n",
      "cycler              0.10.0 \n",
      "decorator           4.4.0  \n",
      "defusedxml          0.6.0  \n",
      "entrypoints         0.3    \n",
      "ipykernel           5.1.1  \n",
      "ipython             7.7.0  \n",
      "ipython-genutils    0.2.0  \n",
      "ipywidgets          7.5.0  \n",
      "jedi                0.14.1 \n",
      "Jinja2              2.10.1 \n",
      "jsonschema          3.0.1  \n",
      "jupyter             1.0.0  \n",
      "jupyter-client      5.3.1  \n",
      "jupyter-console     6.0.0  \n",
      "jupyter-core        4.5.0  \n",
      "kiwisolver          1.1.0  \n",
      "MarkupSafe          1.1.1  \n",
      "matplotlib          3.1.1  \n",
      "mistune             0.8.4  \n",
      "nbconvert           5.5.0  \n",
      "nbformat            4.4.0  \n",
      "notebook            6.0.0  \n",
      "numpy               1.17.0 \n",
      "pandas              0.25.0 \n",
      "pandocfilters       1.4.2  \n",
      "parso               0.5.1  \n",
      "pexpect             4.7.0  \n",
      "pickleshare         0.7.5  \n",
      "pip                 19.1.1 \n",
      "prometheus-client   0.7.1  \n",
      "prompt-toolkit      2.0.9  \n",
      "ptyprocess          0.6.0  \n",
      "Pygments            2.4.2  \n",
      "pyparsing           2.4.1.1\n",
      "pyrsistent          0.15.4 \n",
      "python-dateutil     2.8.0  \n",
      "pytz                2019.1 \n",
      "pyzmq               18.0.2 \n",
      "qtconsole           4.5.2  \n",
      "Send2Trash          1.5.0  \n",
      "setuptools          41.0.1 \n",
      "singleton-decorator 1.0.0  \n",
      "six                 1.12.0 \n",
      "terminado           0.8.2  \n",
      "testpath            0.4.2  \n",
      "tornado             6.0.3  \n",
      "traitlets           4.3.2  \n",
      "wcwidth             0.1.7  \n",
      "webencodings        0.5.1  \n",
      "wheel               0.33.4 \n",
      "widgetsnbextension  3.5.0  \n",
      "Note: you may need to restart the kernel to use updated packages.\n"
     ]
    }
   ],
   "source": [
    "pip list"
   ]
  },
  {
   "cell_type": "markdown",
   "metadata": {},
   "source": [
    "## Internal Module Imports\n",
    "Code required to enable project's internally defined modulos into the jupyter notebook environment"
   ]
  },
  {
   "cell_type": "code",
   "execution_count": 1,
   "metadata": {},
   "outputs": [],
   "source": [
    "import os\n",
    "import sys\n",
    "module_path = os.path.abspath(os.path.join('..'))\n",
    "if module_path not in sys.path:\n",
    "    sys.path.append(module_path)"
   ]
  },
  {
   "cell_type": "code",
   "execution_count": 2,
   "metadata": {},
   "outputs": [],
   "source": [
    "from electricity import ElectricalSystem, Load, Generator\n",
    "from dto import ElectricalConstants"
   ]
  },
  {
   "cell_type": "code",
   "execution_count": 3,
   "metadata": {},
   "outputs": [],
   "source": [
    "constants = ElectricalConstants()"
   ]
  },
  {
   "cell_type": "code",
   "execution_count": 4,
   "metadata": {},
   "outputs": [],
   "source": [
    "a = ElectricalSystem([Load(\"L1\", 300)], [Generator(\"G1\", 200)])"
   ]
  },
  {
   "cell_type": "code",
   "execution_count": 5,
   "metadata": {},
   "outputs": [
    {
     "data": {
      "text/plain": [
       "SystemHistory(totalPower=[200], frequency=[200], generators={'G1': [200]}, loads={'L1': [300]})"
      ]
     },
     "execution_count": 5,
     "metadata": {},
     "output_type": "execute_result"
    }
   ],
   "source": [
    "from dto import SystemHistory\n",
    "SystemHistory()"
   ]
  },
  {
   "cell_type": "code",
   "execution_count": null,
   "metadata": {},
   "outputs": [],
   "source": []
  }
 ],
 "metadata": {
  "kernelspec": {
   "display_name": "2019-MSc_Thesis-4pUnri4s",
   "language": "python",
   "name": "2019-msc_thesis-4punri4s"
  },
  "language_info": {
   "codemirror_mode": {
    "name": "ipython",
    "version": 3
   },
   "file_extension": ".py",
   "mimetype": "text/x-python",
   "name": "python",
   "nbconvert_exporter": "python",
   "pygments_lexer": "ipython3",
   "version": "3.7.3"
  }
 },
 "nbformat": 4,
 "nbformat_minor": 2
}
