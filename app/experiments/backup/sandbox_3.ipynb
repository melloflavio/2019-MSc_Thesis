{
 "cells": [
  {
   "cell_type": "markdown",
   "metadata": {},
   "source": [
    "## Current Python Version\n",
    "\n",
    "Ensure the python version running in the jupyter kernel is the same as expected"
   ]
  },
  {
   "cell_type": "code",
   "execution_count": 14,
   "metadata": {},
   "outputs": [
    {
     "name": "stdout",
     "output_type": "stream",
     "text": [
      "3.7.3\n"
     ]
    }
   ],
   "source": [
    "from platform import python_version\n",
    "\n",
    "print(python_version())\n"
   ]
  },
  {
   "cell_type": "markdown",
   "metadata": {},
   "source": [
    "List installed packages, should match the ones in the pipfile (and their dependencies)"
   ]
  },
  {
   "cell_type": "code",
   "execution_count": 15,
   "metadata": {},
   "outputs": [
    {
     "name": "stdout",
     "output_type": "stream",
     "text": [
      "Package              Version \n",
      "-------------------- --------\n",
      "absl-py              0.7.1   \n",
      "astor                0.8.0   \n",
      "astroid              2.2.5   \n",
      "attrs                19.1.0  \n",
      "backcall             0.1.0   \n",
      "bleach               3.1.0   \n",
      "cycler               0.10.0  \n",
      "dataclasses-json     0.2.14  \n",
      "decorator            4.4.0   \n",
      "defusedxml           0.6.0   \n",
      "entrypoints          0.3     \n",
      "gast                 0.2.2   \n",
      "google-pasta         0.1.7   \n",
      "grpcio               1.22.0  \n",
      "h5py                 2.9.0   \n",
      "ipykernel            5.1.1   \n",
      "ipython              7.7.0   \n",
      "ipython-genutils     0.2.0   \n",
      "ipywidgets           7.5.1   \n",
      "isort                4.3.21  \n",
      "jedi                 0.14.1  \n",
      "Jinja2               2.10.1  \n",
      "jsonschema           3.0.2   \n",
      "jupyter              1.0.0   \n",
      "jupyter-client       5.3.1   \n",
      "jupyter-console      6.0.0   \n",
      "jupyter-core         4.5.0   \n",
      "Keras-Applications   1.0.8   \n",
      "Keras-Preprocessing  1.1.0   \n",
      "kiwisolver           1.1.0   \n",
      "lazy-object-proxy    1.4.1   \n",
      "Markdown             3.1.1   \n",
      "MarkupSafe           1.1.1   \n",
      "marshmallow          3.0.0rc6\n",
      "marshmallow-enum     1.5.1   \n",
      "matplotlib           3.1.1   \n",
      "mccabe               0.6.1   \n",
      "mistune              0.8.4   \n",
      "mypy-extensions      0.4.1   \n",
      "nbconvert            5.5.0   \n",
      "nbformat             4.4.0   \n",
      "notebook             6.0.0   \n",
      "numpy                1.17.0  \n",
      "pandas               0.25.0  \n",
      "pandocfilters        1.4.2   \n",
      "parso                0.5.1   \n",
      "pexpect              4.7.0   \n",
      "pickleshare          0.7.5   \n",
      "pip                  19.1.1  \n",
      "prometheus-client    0.7.1   \n",
      "prompt-toolkit       2.0.9   \n",
      "protobuf             3.9.1   \n",
      "ptyprocess           0.6.0   \n",
      "pydash               4.7.5   \n",
      "Pygments             2.4.2   \n",
      "pylint               2.3.1   \n",
      "pyparsing            2.4.2   \n",
      "pyrsistent           0.15.4  \n",
      "python-dateutil      2.8.0   \n",
      "pytz                 2019.2  \n",
      "pyzmq                18.0.2  \n",
      "qtconsole            4.5.2   \n",
      "scipy                1.3.0   \n",
      "Send2Trash           1.5.0   \n",
      "setuptools           41.0.1  \n",
      "singleton-decorator  1.0.0   \n",
      "six                  1.12.0  \n",
      "stringcase           1.2.0   \n",
      "tensorboard          1.14.0  \n",
      "tensorflow           1.14.0  \n",
      "tensorflow-estimator 1.14.0  \n",
      "tensorflow-gpu       1.14.0  \n",
      "termcolor            1.1.0   \n",
      "terminado            0.8.2   \n",
      "testpath             0.4.2   \n",
      "tornado              6.0.3   \n",
      "traitlets            4.3.2   \n",
      "typed-ast            1.4.0   \n",
      "typing-inspect       0.4.0   \n",
      "wcwidth              0.1.7   \n",
      "webencodings         0.5.1   \n",
      "Werkzeug             0.15.5  \n",
      "wheel                0.33.4  \n",
      "widgetsnbextension   3.5.1   \n",
      "wrapt                1.11.2  \n",
      "Note: you may need to restart the kernel to use updated packages.\n"
     ]
    }
   ],
   "source": [
    "pip list"
   ]
  },
  {
   "cell_type": "markdown",
   "metadata": {},
   "source": [
    "## Internal Module Imports\n",
    "Code required to enable project's internally defined modulos into the jupyter notebook environment"
   ]
  },
  {
   "cell_type": "code",
   "execution_count": 3,
   "metadata": {},
   "outputs": [],
   "source": [
    "import os\n",
    "import sys\n",
    "module_path = os.path.abspath(os.path.join('..'))\n",
    "if module_path not in sys.path:\n",
    "    sys.path.append(module_path)"
   ]
  },
  {
   "cell_type": "code",
   "execution_count": 4,
   "metadata": {},
   "outputs": [
    {
     "name": "stderr",
     "output_type": "stream",
     "text": [
      "/home/fmello/.local/share/virtualenvs/2019-MSc_Thesis-4pUnri4s/lib/python3.7/site-packages/tensorflow/python/framework/dtypes.py:516: FutureWarning: Passing (type, 1) or '1type' as a synonym of type is deprecated; in a future version of numpy, it will be understood as (type, (1,)) / '(1,)type'.\n",
      "  _np_qint8 = np.dtype([(\"qint8\", np.int8, 1)])\n",
      "/home/fmello/.local/share/virtualenvs/2019-MSc_Thesis-4pUnri4s/lib/python3.7/site-packages/tensorflow/python/framework/dtypes.py:517: FutureWarning: Passing (type, 1) or '1type' as a synonym of type is deprecated; in a future version of numpy, it will be understood as (type, (1,)) / '(1,)type'.\n",
      "  _np_quint8 = np.dtype([(\"quint8\", np.uint8, 1)])\n",
      "/home/fmello/.local/share/virtualenvs/2019-MSc_Thesis-4pUnri4s/lib/python3.7/site-packages/tensorflow/python/framework/dtypes.py:518: FutureWarning: Passing (type, 1) or '1type' as a synonym of type is deprecated; in a future version of numpy, it will be understood as (type, (1,)) / '(1,)type'.\n",
      "  _np_qint16 = np.dtype([(\"qint16\", np.int16, 1)])\n",
      "/home/fmello/.local/share/virtualenvs/2019-MSc_Thesis-4pUnri4s/lib/python3.7/site-packages/tensorflow/python/framework/dtypes.py:519: FutureWarning: Passing (type, 1) or '1type' as a synonym of type is deprecated; in a future version of numpy, it will be understood as (type, (1,)) / '(1,)type'.\n",
      "  _np_quint16 = np.dtype([(\"quint16\", np.uint16, 1)])\n",
      "/home/fmello/.local/share/virtualenvs/2019-MSc_Thesis-4pUnri4s/lib/python3.7/site-packages/tensorflow/python/framework/dtypes.py:520: FutureWarning: Passing (type, 1) or '1type' as a synonym of type is deprecated; in a future version of numpy, it will be understood as (type, (1,)) / '(1,)type'.\n",
      "  _np_qint32 = np.dtype([(\"qint32\", np.int32, 1)])\n",
      "/home/fmello/.local/share/virtualenvs/2019-MSc_Thesis-4pUnri4s/lib/python3.7/site-packages/tensorflow/python/framework/dtypes.py:525: FutureWarning: Passing (type, 1) or '1type' as a synonym of type is deprecated; in a future version of numpy, it will be understood as (type, (1,)) / '(1,)type'.\n",
      "  np_resource = np.dtype([(\"resource\", np.ubyte, 1)])\n",
      "/home/fmello/.local/share/virtualenvs/2019-MSc_Thesis-4pUnri4s/lib/python3.7/site-packages/tensorboard/compat/tensorflow_stub/dtypes.py:541: FutureWarning: Passing (type, 1) or '1type' as a synonym of type is deprecated; in a future version of numpy, it will be understood as (type, (1,)) / '(1,)type'.\n",
      "  _np_qint8 = np.dtype([(\"qint8\", np.int8, 1)])\n",
      "/home/fmello/.local/share/virtualenvs/2019-MSc_Thesis-4pUnri4s/lib/python3.7/site-packages/tensorboard/compat/tensorflow_stub/dtypes.py:542: FutureWarning: Passing (type, 1) or '1type' as a synonym of type is deprecated; in a future version of numpy, it will be understood as (type, (1,)) / '(1,)type'.\n",
      "  _np_quint8 = np.dtype([(\"quint8\", np.uint8, 1)])\n",
      "/home/fmello/.local/share/virtualenvs/2019-MSc_Thesis-4pUnri4s/lib/python3.7/site-packages/tensorboard/compat/tensorflow_stub/dtypes.py:543: FutureWarning: Passing (type, 1) or '1type' as a synonym of type is deprecated; in a future version of numpy, it will be understood as (type, (1,)) / '(1,)type'.\n",
      "  _np_qint16 = np.dtype([(\"qint16\", np.int16, 1)])\n",
      "/home/fmello/.local/share/virtualenvs/2019-MSc_Thesis-4pUnri4s/lib/python3.7/site-packages/tensorboard/compat/tensorflow_stub/dtypes.py:544: FutureWarning: Passing (type, 1) or '1type' as a synonym of type is deprecated; in a future version of numpy, it will be understood as (type, (1,)) / '(1,)type'.\n",
      "  _np_quint16 = np.dtype([(\"quint16\", np.uint16, 1)])\n",
      "/home/fmello/.local/share/virtualenvs/2019-MSc_Thesis-4pUnri4s/lib/python3.7/site-packages/tensorboard/compat/tensorflow_stub/dtypes.py:545: FutureWarning: Passing (type, 1) or '1type' as a synonym of type is deprecated; in a future version of numpy, it will be understood as (type, (1,)) / '(1,)type'.\n",
      "  _np_qint32 = np.dtype([(\"qint32\", np.int32, 1)])\n",
      "/home/fmello/.local/share/virtualenvs/2019-MSc_Thesis-4pUnri4s/lib/python3.7/site-packages/tensorboard/compat/tensorflow_stub/dtypes.py:550: FutureWarning: Passing (type, 1) or '1type' as a synonym of type is deprecated; in a future version of numpy, it will be understood as (type, (1,)) / '(1,)type'.\n",
      "  np_resource = np.dtype([(\"resource\", np.ubyte, 1)])\n"
     ]
    }
   ],
   "source": [
    "# from electricity import ElectricalSystem, Load, Generator\n",
    "from dto import (\n",
    "    COST_PRESETS, \n",
    "    ElectricalSystemSpecs, \n",
    "    EpsilonSpecs,\n",
    "    GeneratorSpecs, \n",
    "    LoadSpecs, \n",
    "    NodeStatePower, \n",
    "    SystemHistory, \n",
    "    )\n",
    "    \n",
    "from learning import ModelTrainer, ModelTester, LearningParams"
   ]
  },
  {
   "cell_type": "markdown",
   "metadata": {},
   "source": [
    "Determine the experiment params"
   ]
  },
  {
   "cell_type": "code",
   "execution_count": 5,
   "metadata": {},
   "outputs": [],
   "source": [
    "from dto import EpsilonSpecs, ElectricalConstants\n",
    "import math\n",
    "\n",
    "trackCostSpecs = ElectricalSystemSpecs(\n",
    "        loads=[LoadSpecs(id_=\"L1\", basePower=4.0, noiseLevel=0.05)],\n",
    "        generators=[\n",
    "            GeneratorSpecs(id_=\"G1\", basePower=1.33, costProfile=COST_PRESETS.COAL, minPower=0.5, maxPower=5.0, noiseLevel=0.05),\n",
    "            GeneratorSpecs(id_=\"G2\", basePower=1.33, costProfile=COST_PRESETS.OIL, minPower=0.5, maxPower=5.0, noiseLevel=0.05),\n",
    "            GeneratorSpecs(id_=\"G3\", basePower=1.33, costProfile=COST_PRESETS.GAS, minPower=0.5, maxPower=2.0, noiseLevel=0.05),\n",
    "        ],\n",
    "        shouldTrackOptimalCost=True,\n",
    "    )\n",
    "\n",
    "speedySpecs = ElectricalSystemSpecs(\n",
    "        loads=[LoadSpecs(id_=\"L1\", basePower=4.0, noiseLevel=0.05)],\n",
    "        generators=[\n",
    "            GeneratorSpecs(id_=\"G1\", basePower=1.33, costProfile=COST_PRESETS.COAL, minPower=0.5, maxPower=5.0, noiseLevel=0.05),\n",
    "            GeneratorSpecs(id_=\"G2\", basePower=1.33, costProfile=COST_PRESETS.OIL, minPower=0.5, maxPower=5.0, noiseLevel=0.05),\n",
    "            GeneratorSpecs(id_=\"G3\", basePower=1.33, costProfile=COST_PRESETS.GAS, minPower=0.5, maxPower=2.0, noiseLevel=0.05),\n",
    "        ],\n",
    "        shouldTrackOptimalCost=False,\n",
    "    )\n",
    "\n",
    "# Droop = +infinity essentially remove the droop component from the power update equation. System reacts as if droop is disabled\n",
    "# ElectricalConstants().droop = math.inf"
   ]
  },
  {
   "cell_type": "markdown",
   "metadata": {},
   "source": [
    "Train Agents"
   ]
  },
  {
   "cell_type": "code",
   "execution_count": 6,
   "metadata": {},
   "outputs": [],
   "source": [
    "from electricity import ElectricalSystemFactory\n",
    "costElectricalSystem = ElectricalSystemFactory.create(trackCostSpecs)\n"
   ]
  },
  {
   "cell_type": "code",
   "execution_count": 10,
   "metadata": {},
   "outputs": [
    {
     "name": "stdout",
     "output_type": "stream",
     "text": [
      "13.7 s ± 3.99 s per loop (mean ± std. dev. of 7 runs, 1 loop each)\n"
     ]
    }
   ],
   "source": [
    "%%timeit\n",
    "for i in range(1000):\n",
    "    costElectricalSystem.updateGenerators([])"
   ]
  },
  {
   "cell_type": "code",
   "execution_count": 12,
   "metadata": {},
   "outputs": [],
   "source": [
    "speedyElectricalSystem = ElectricalSystemFactory.create(trackCostSpecs)"
   ]
  },
  {
   "cell_type": "code",
   "execution_count": 13,
   "metadata": {},
   "outputs": [
    {
     "name": "stdout",
     "output_type": "stream",
     "text": [
      "13.9 s ± 2.4 s per loop (mean ± std. dev. of 7 runs, 1 loop each)\n"
     ]
    }
   ],
   "source": [
    "%%timeit\n",
    "for i in range(1000):\n",
    "    speedyElectricalSystem.updateGenerators([])"
   ]
  },
  {
   "cell_type": "code",
   "execution_count": null,
   "metadata": {},
   "outputs": [],
   "source": []
  }
 ],
 "metadata": {
  "kernelspec": {
   "display_name": "2019-MSc_Thesis-4pUnri4s",
   "language": "python",
   "name": "2019-msc_thesis-4punri4s"
  },
  "language_info": {
   "codemirror_mode": {
    "name": "ipython",
    "version": 3
   },
   "file_extension": ".py",
   "mimetype": "text/x-python",
   "name": "python",
   "nbconvert_exporter": "python",
   "pygments_lexer": "ipython3",
   "version": "3.7.3"
  }
 },
 "nbformat": 4,
 "nbformat_minor": 2
}
