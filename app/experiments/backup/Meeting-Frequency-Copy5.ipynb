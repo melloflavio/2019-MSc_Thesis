{
 "cells": [
  {
   "cell_type": "markdown",
   "metadata": {},
   "source": [
    "## Current Python Version\n",
    "\n",
    "Ensure the python version running in the jupyter kernel is the same as expected"
   ]
  },
  {
   "cell_type": "code",
   "execution_count": 1,
   "metadata": {},
   "outputs": [],
   "source": [
    "# from platform import python_version\n",
    "\n",
    "# print(python_version())\n"
   ]
  },
  {
   "cell_type": "markdown",
   "metadata": {},
   "source": [
    "List installed packages, should match the ones in the pipfile (and their dependencies)"
   ]
  },
  {
   "cell_type": "code",
   "execution_count": 2,
   "metadata": {},
   "outputs": [],
   "source": [
    "# pip list"
   ]
  },
  {
   "cell_type": "markdown",
   "metadata": {},
   "source": [
    "## Internal Module Imports\n",
    "Code required to enable project's internally defined modulos into the jupyter notebook environment"
   ]
  },
  {
   "cell_type": "code",
   "execution_count": 3,
   "metadata": {},
   "outputs": [],
   "source": [
    "import os\n",
    "import sys\n",
    "module_path = os.path.abspath(os.path.join('..'))\n",
    "if module_path not in sys.path:\n",
    "    sys.path.append(module_path)"
   ]
  },
  {
   "cell_type": "code",
   "execution_count": 4,
   "metadata": {},
   "outputs": [
    {
     "name": "stderr",
     "output_type": "stream",
     "text": [
      "/home/fmello/.local/share/virtualenvs/2019-MSc_Thesis-4pUnri4s/lib/python3.7/site-packages/tensorflow/python/framework/dtypes.py:516: FutureWarning: Passing (type, 1) or '1type' as a synonym of type is deprecated; in a future version of numpy, it will be understood as (type, (1,)) / '(1,)type'.\n",
      "  _np_qint8 = np.dtype([(\"qint8\", np.int8, 1)])\n",
      "/home/fmello/.local/share/virtualenvs/2019-MSc_Thesis-4pUnri4s/lib/python3.7/site-packages/tensorflow/python/framework/dtypes.py:517: FutureWarning: Passing (type, 1) or '1type' as a synonym of type is deprecated; in a future version of numpy, it will be understood as (type, (1,)) / '(1,)type'.\n",
      "  _np_quint8 = np.dtype([(\"quint8\", np.uint8, 1)])\n",
      "/home/fmello/.local/share/virtualenvs/2019-MSc_Thesis-4pUnri4s/lib/python3.7/site-packages/tensorflow/python/framework/dtypes.py:518: FutureWarning: Passing (type, 1) or '1type' as a synonym of type is deprecated; in a future version of numpy, it will be understood as (type, (1,)) / '(1,)type'.\n",
      "  _np_qint16 = np.dtype([(\"qint16\", np.int16, 1)])\n",
      "/home/fmello/.local/share/virtualenvs/2019-MSc_Thesis-4pUnri4s/lib/python3.7/site-packages/tensorflow/python/framework/dtypes.py:519: FutureWarning: Passing (type, 1) or '1type' as a synonym of type is deprecated; in a future version of numpy, it will be understood as (type, (1,)) / '(1,)type'.\n",
      "  _np_quint16 = np.dtype([(\"quint16\", np.uint16, 1)])\n",
      "/home/fmello/.local/share/virtualenvs/2019-MSc_Thesis-4pUnri4s/lib/python3.7/site-packages/tensorflow/python/framework/dtypes.py:520: FutureWarning: Passing (type, 1) or '1type' as a synonym of type is deprecated; in a future version of numpy, it will be understood as (type, (1,)) / '(1,)type'.\n",
      "  _np_qint32 = np.dtype([(\"qint32\", np.int32, 1)])\n",
      "/home/fmello/.local/share/virtualenvs/2019-MSc_Thesis-4pUnri4s/lib/python3.7/site-packages/tensorflow/python/framework/dtypes.py:525: FutureWarning: Passing (type, 1) or '1type' as a synonym of type is deprecated; in a future version of numpy, it will be understood as (type, (1,)) / '(1,)type'.\n",
      "  np_resource = np.dtype([(\"resource\", np.ubyte, 1)])\n",
      "/home/fmello/.local/share/virtualenvs/2019-MSc_Thesis-4pUnri4s/lib/python3.7/site-packages/tensorboard/compat/tensorflow_stub/dtypes.py:541: FutureWarning: Passing (type, 1) or '1type' as a synonym of type is deprecated; in a future version of numpy, it will be understood as (type, (1,)) / '(1,)type'.\n",
      "  _np_qint8 = np.dtype([(\"qint8\", np.int8, 1)])\n",
      "/home/fmello/.local/share/virtualenvs/2019-MSc_Thesis-4pUnri4s/lib/python3.7/site-packages/tensorboard/compat/tensorflow_stub/dtypes.py:542: FutureWarning: Passing (type, 1) or '1type' as a synonym of type is deprecated; in a future version of numpy, it will be understood as (type, (1,)) / '(1,)type'.\n",
      "  _np_quint8 = np.dtype([(\"quint8\", np.uint8, 1)])\n",
      "/home/fmello/.local/share/virtualenvs/2019-MSc_Thesis-4pUnri4s/lib/python3.7/site-packages/tensorboard/compat/tensorflow_stub/dtypes.py:543: FutureWarning: Passing (type, 1) or '1type' as a synonym of type is deprecated; in a future version of numpy, it will be understood as (type, (1,)) / '(1,)type'.\n",
      "  _np_qint16 = np.dtype([(\"qint16\", np.int16, 1)])\n",
      "/home/fmello/.local/share/virtualenvs/2019-MSc_Thesis-4pUnri4s/lib/python3.7/site-packages/tensorboard/compat/tensorflow_stub/dtypes.py:544: FutureWarning: Passing (type, 1) or '1type' as a synonym of type is deprecated; in a future version of numpy, it will be understood as (type, (1,)) / '(1,)type'.\n",
      "  _np_quint16 = np.dtype([(\"quint16\", np.uint16, 1)])\n",
      "/home/fmello/.local/share/virtualenvs/2019-MSc_Thesis-4pUnri4s/lib/python3.7/site-packages/tensorboard/compat/tensorflow_stub/dtypes.py:545: FutureWarning: Passing (type, 1) or '1type' as a synonym of type is deprecated; in a future version of numpy, it will be understood as (type, (1,)) / '(1,)type'.\n",
      "  _np_qint32 = np.dtype([(\"qint32\", np.int32, 1)])\n",
      "/home/fmello/.local/share/virtualenvs/2019-MSc_Thesis-4pUnri4s/lib/python3.7/site-packages/tensorboard/compat/tensorflow_stub/dtypes.py:550: FutureWarning: Passing (type, 1) or '1type' as a synonym of type is deprecated; in a future version of numpy, it will be understood as (type, (1,)) / '(1,)type'.\n",
      "  np_resource = np.dtype([(\"resource\", np.ubyte, 1)])\n"
     ]
    }
   ],
   "source": [
    "# from electricity import ElectricalSystem, Load, Generator\n",
    "from dto import (\n",
    "    COST_PRESETS, \n",
    "    ElectricalSystemSpecs, \n",
    "    EpsilonSpecs,\n",
    "    GeneratorSpecs, \n",
    "    LoadSpecs, \n",
    "    NodeStatePower, \n",
    "    SystemHistory, \n",
    "    )\n",
    "    \n",
    "from learning import ModelTrainer, ModelTester, LearningParams"
   ]
  },
  {
   "cell_type": "markdown",
   "metadata": {},
   "source": [
    "Determine the experiment params"
   ]
  },
  {
   "cell_type": "code",
   "execution_count": 5,
   "metadata": {},
   "outputs": [
    {
     "data": {
      "text/plain": [
       "LearningParams(electricalSystemSpecs=ElectricalSystemSpecs(loads=[LoadSpecs(id_='L1', basePower=3.0, noiseLevel=0.1)], generators=[GeneratorSpecs(id_='G1', basePower=1.0, costProfile=CostProfile(alpha=510.0, beta=7.2, gamma=0.00142), minPower=0.5, maxPower=2.0, noiseLevel=0), GeneratorSpecs(id_='G2', basePower=1.0, costProfile=CostProfile(alpha=310.0, beta=7.85, gamma=0.00194), minPower=0.5, maxPower=2.0, noiseLevel=0), GeneratorSpecs(id_='G3', basePower=1.0, costProfile=CostProfile(alpha=310.0, beta=7.85, gamma=0.00194), minPower=0.5, maxPower=2.0, noiseLevel=0)], shouldTrackOptimalCost=True), gamma=0.9, tau=0.001, epsilonSpecs=EpsilonSpecs(thresholdProgress=0.6, thresholdValue=0.5, finalValue=0.0001), numEpisodes=5000, maxSteps=150, traceLength=8, batchSize=4, nnShape=NeuralNetworkShape(layer_00_ltsm=100, layer_01_mlp_01=1000, layer_02_mlp_02=100, layer_03_mlp_03=50, layer_04_mlp_04=1), modelName='Test-Frequency-3-generators-blockLtsm')"
      ]
     },
     "execution_count": 5,
     "metadata": {},
     "output_type": "execute_result"
    }
   ],
   "source": [
    "from dto import EpsilonSpecs, ElectricalConstants\n",
    "import math\n",
    "\n",
    "LearningParams(\n",
    "    gamma=0.9,   # Gamma (Discount)\n",
    "    tau=0.001, # Tau\n",
    "    epsilonSpecs = EpsilonSpecs( # Epsilon explore/exploit control\n",
    "        thresholdProgress = 0.6, # % of steps where decay change should happen\n",
    "        thresholdValue = 0.5, # Value at which decay change would happen\n",
    "        finalValue = 0.0001, # Value at the end of the experiment\n",
    "    ),\n",
    "    numEpisodes=5000, # Number of learning episodes to run\n",
    "    maxSteps=150,   # Number of steps per learning episode\n",
    "    traceLength=8,     # Number of steps each sampled episode should contain\n",
    "    batchSize=4,     # Number of episodes sampled from experience buffer\n",
    "    electricalSystemSpecs = ElectricalSystemSpecs(\n",
    "        loads=[LoadSpecs(id_=\"L1\", basePower=3.0, noiseLevel=0.1)],\n",
    "        generators=[\n",
    "            GeneratorSpecs(id_=\"G1\", basePower=1.0, costProfile=COST_PRESETS.COAL, minPower=0.5, maxPower=2.0, noiseLevel=0),\n",
    "            GeneratorSpecs(id_=\"G2\", basePower=1.0, costProfile=COST_PRESETS.OIL, minPower=0.5, maxPower=2.0, noiseLevel=0),\n",
    "            GeneratorSpecs(id_=\"G3\", basePower=1.0, costProfile=COST_PRESETS.OIL, minPower=0.5, maxPower=2.0, noiseLevel=0),\n",
    "        ],\n",
    "        shouldTrackOptimalCost=True,\n",
    "    ),\n",
    "    modelName='Test-Frequency-3-generators-blockLtsm'\n",
    ")\n",
    "\n",
    "# Droop = +infinity essentially remove the droop component from the power update equation. System reacts as if droop is disabled\n",
    "# ElectricalConstants().droop = math.inf"
   ]
  },
  {
   "cell_type": "markdown",
   "metadata": {},
   "source": [
    "Train Agents"
   ]
  },
  {
   "cell_type": "code",
   "execution_count": 6,
   "metadata": {},
   "outputs": [],
   "source": [
    "def rewardFn(deltaFreq):\n",
    "    baseComponent = 2**(-(deltaFreq**2)/100)\n",
    "    peakComponent = 2**(-(deltaFreq**2)/2)\n",
    "    earnedReward = baseComponent + 9*peakComponent\n",
    "\n",
    "    return earnedReward, {'base': baseComponent, 'peak': 9*peakComponent, 'total':earnedReward}"
   ]
  },
  {
   "cell_type": "code",
   "execution_count": 7,
   "metadata": {},
   "outputs": [],
   "source": [
    "from learning.frequency import ModelAdapterFrequency as ModelAdapter\n"
   ]
  },
  {
   "cell_type": "code",
   "execution_count": 8,
   "metadata": {
    "scrolled": true
   },
   "outputs": [
    {
     "name": "stderr",
     "output_type": "stream",
     "text": [
      "WARNING: Logging before flag parsing goes to stderr.\n",
      "W0915 14:15:45.299993 140228422731520 lazy_loader.py:50] \n",
      "The TensorFlow contrib module will not be included in TensorFlow 2.0.\n",
      "For more information, please see:\n",
      "  * https://github.com/tensorflow/community/blob/master/rfcs/20180907-contrib-sunset.md\n",
      "  * https://github.com/tensorflow/addons\n",
      "  * https://github.com/tensorflow/io (for I/O related ops)\n",
      "If you depend on functionality not listed there, please file an issue.\n",
      "\n",
      "W0915 14:15:45.329231 140228422731520 deprecation.py:323] From /mnt/c/Users/flavi/Documents/Study/City-UniLondon/Thesis/2019-MSc_Thesis/app/learning/actor.py:40: dynamic_rnn (from tensorflow.python.ops.rnn) is deprecated and will be removed in a future version.\n",
      "Instructions for updating:\n",
      "Please use `keras.layers.RNN(cell)`, which is equivalent to this API\n",
      "W0915 14:15:45.425247 140228422731520 deprecation.py:506] From /home/fmello/.local/share/virtualenvs/2019-MSc_Thesis-4pUnri4s/lib/python3.7/site-packages/tensorflow/python/ops/init_ops.py:1251: calling VarianceScaling.__init__ (from tensorflow.python.ops.init_ops) with dtype is deprecated and will be removed in a future version.\n",
      "Instructions for updating:\n",
      "Call initializer instance with the dtype argument instead of passing it to the constructor\n"
     ]
    },
    {
     "name": "stdout",
     "output_type": "stream",
     "text": [
      "agent G1: actor\n",
      "agent G1: actor-target\n",
      "  critic cost_freq_G1_critic: 1\n",
      "  critic cost_freq_G1_critic: 2\n",
      "  critic cost_freq_G1_critic: 3\n",
      "  critic cost_freq_G1_critic: 4\n",
      "  critic cost_freq_G1_critic: 5\n",
      "  critic cost_freq_G1_critic: 6\n",
      "  critic cost_freq_G1_critic: 7\n",
      "  critic cost_freq_G1_critic: 8\n",
      "agent G1: critic\n",
      "  critic cost_freq_G1_critic_target: 1\n",
      "  critic cost_freq_G1_critic_target: 2\n",
      "  critic cost_freq_G1_critic_target: 3\n",
      "  critic cost_freq_G1_critic_target: 4\n",
      "  critic cost_freq_G1_critic_target: 5\n",
      "  critic cost_freq_G1_critic_target: 6\n",
      "  critic cost_freq_G1_critic_target: 7\n",
      "  critic cost_freq_G1_critic_target: 8\n",
      "agent G1: critic-target\n",
      "agent G2: actor\n",
      "agent G2: actor-target\n",
      "  critic cost_freq_G2_critic: 1\n",
      "  critic cost_freq_G2_critic: 2\n",
      "  critic cost_freq_G2_critic: 3\n",
      "  critic cost_freq_G2_critic: 4\n",
      "  critic cost_freq_G2_critic: 5\n",
      "  critic cost_freq_G2_critic: 6\n",
      "  critic cost_freq_G2_critic: 7\n",
      "  critic cost_freq_G2_critic: 8\n",
      "agent G2: critic\n",
      "  critic cost_freq_G2_critic_target: 1\n",
      "  critic cost_freq_G2_critic_target: 2\n",
      "  critic cost_freq_G2_critic_target: 3\n",
      "  critic cost_freq_G2_critic_target: 4\n",
      "  critic cost_freq_G2_critic_target: 5\n",
      "  critic cost_freq_G2_critic_target: 6\n",
      "  critic cost_freq_G2_critic_target: 7\n",
      "  critic cost_freq_G2_critic_target: 8\n",
      "agent G2: critic-target\n",
      "agent G3: actor\n",
      "agent G3: actor-target\n",
      "  critic cost_freq_G3_critic: 1\n",
      "  critic cost_freq_G3_critic: 2\n",
      "  critic cost_freq_G3_critic: 3\n",
      "  critic cost_freq_G3_critic: 4\n",
      "  critic cost_freq_G3_critic: 5\n",
      "  critic cost_freq_G3_critic: 6\n",
      "  critic cost_freq_G3_critic: 7\n",
      "  critic cost_freq_G3_critic: 8\n",
      "agent G3: critic\n",
      "  critic cost_freq_G3_critic_target: 1\n",
      "  critic cost_freq_G3_critic_target: 2\n",
      "  critic cost_freq_G3_critic_target: 3\n",
      "  critic cost_freq_G3_critic_target: 4\n",
      "  critic cost_freq_G3_critic_target: 5\n",
      "  critic cost_freq_G3_critic_target: 6\n",
      "  critic cost_freq_G3_critic_target: 7\n"
     ]
    },
    {
     "name": "stderr",
     "output_type": "stream",
     "text": [
      "W0915 14:15:57.468455 140228422731520 deprecation_wrapper.py:119] From /mnt/c/Users/flavi/Documents/Study/City-UniLondon/Thesis/2019-MSc_Thesis/app/learning/model_trainer.py:47: The name tf.ConfigProto is deprecated. Please use tf.compat.v1.ConfigProto instead.\n",
      "\n"
     ]
    },
    {
     "name": "stdout",
     "output_type": "stream",
     "text": [
      "  critic cost_freq_G3_critic_target: 8\n",
      "agent G3: critic-target\n",
      "Training model: Test-Frequency-3-generators-blockLtsm - 0% 1% 2% 3% 4% 5% 6% 7% 8% 9% 10% 11% 12% 13% 14% 15% 16% 17% 18% 19% 20% 21% 22% 23% 24% 25% 26% 27% 28% 29% 30% 31% 32% 33% 34% 35% 36% 37% 38% 39% 40% 41% 42% 43% 44% 45% 46% 47% 48% 49% 50% 51% 52% 53% 54% 55% 56% 57% 58% 59% 60% 61% 62% 63% 64% 65% 66% 67% 68% 69% 70% 71% 72% 73% 74% 75% 76% 77% 78% 79% 80% 81% 82% 83% 84% 85% 86% 87% 88% 89% 90% 91% 92% 93% 94% 95% 96% 97% 98% 99% 100%\n",
      "Model saved in path: /mnt/c/Users/flavi/Documents/Study/City-UniLondon/Thesis/2019-MSc_Thesis/app/models/Test-Frequency-3-generators-blockLtsm/model\n",
      "CPU times: user 9h 58min 25s, sys: 1h 31min 1s, total: 11h 29min 26s\n",
      "Wall time: 5h 38min 30s\n"
     ]
    }
   ],
   "source": [
    "%%time\n",
    "modelAdapter = ModelAdapter(rewardFn=rewardFn)\n",
    "allAgents = ModelTrainer(modelAdapter).trainAgents()"
   ]
  },
  {
   "cell_type": "code",
   "execution_count": 9,
   "metadata": {},
   "outputs": [
    {
     "name": "stdout",
     "output_type": "stream",
     "text": [
      "agent G1: actor\n",
      "agent G1: actor-target\n",
      "  critic cost_freq_G1_critic: 1\n",
      "  critic cost_freq_G1_critic: 2\n",
      "  critic cost_freq_G1_critic: 3\n",
      "  critic cost_freq_G1_critic: 4\n",
      "  critic cost_freq_G1_critic: 5\n",
      "  critic cost_freq_G1_critic: 6\n",
      "  critic cost_freq_G1_critic: 7\n",
      "  critic cost_freq_G1_critic: 8\n",
      "agent G1: critic\n",
      "  critic cost_freq_G1_critic_target: 1\n",
      "  critic cost_freq_G1_critic_target: 2\n",
      "  critic cost_freq_G1_critic_target: 3\n",
      "  critic cost_freq_G1_critic_target: 4\n",
      "  critic cost_freq_G1_critic_target: 5\n",
      "  critic cost_freq_G1_critic_target: 6\n",
      "  critic cost_freq_G1_critic_target: 7\n",
      "  critic cost_freq_G1_critic_target: 8\n",
      "agent G1: critic-target\n",
      "agent G2: actor\n",
      "agent G2: actor-target\n",
      "  critic cost_freq_G2_critic: 1\n",
      "  critic cost_freq_G2_critic: 2\n",
      "  critic cost_freq_G2_critic: 3\n",
      "  critic cost_freq_G2_critic: 4\n",
      "  critic cost_freq_G2_critic: 5\n",
      "  critic cost_freq_G2_critic: 6\n",
      "  critic cost_freq_G2_critic: 7\n",
      "  critic cost_freq_G2_critic: 8\n",
      "agent G2: critic\n",
      "  critic cost_freq_G2_critic_target: 1\n",
      "  critic cost_freq_G2_critic_target: 2\n",
      "  critic cost_freq_G2_critic_target: 3\n",
      "  critic cost_freq_G2_critic_target: 4\n",
      "  critic cost_freq_G2_critic_target: 5\n",
      "  critic cost_freq_G2_critic_target: 6\n",
      "  critic cost_freq_G2_critic_target: 7\n",
      "  critic cost_freq_G2_critic_target: 8\n",
      "agent G2: critic-target\n",
      "agent G3: actor\n",
      "agent G3: actor-target\n",
      "  critic cost_freq_G3_critic: 1\n",
      "  critic cost_freq_G3_critic: 2\n",
      "  critic cost_freq_G3_critic: 3\n",
      "  critic cost_freq_G3_critic: 4\n",
      "  critic cost_freq_G3_critic: 5\n",
      "  critic cost_freq_G3_critic: 6\n",
      "  critic cost_freq_G3_critic: 7\n",
      "  critic cost_freq_G3_critic: 8\n",
      "agent G3: critic\n",
      "  critic cost_freq_G3_critic_target: 1\n",
      "  critic cost_freq_G3_critic_target: 2\n",
      "  critic cost_freq_G3_critic_target: 3\n",
      "  critic cost_freq_G3_critic_target: 4\n",
      "  critic cost_freq_G3_critic_target: 5\n",
      "  critic cost_freq_G3_critic_target: 6\n",
      "  critic cost_freq_G3_critic_target: 7\n",
      "  critic cost_freq_G3_critic_target: 8\n",
      "agent G3: critic-target\n"
     ]
    },
    {
     "name": "stderr",
     "output_type": "stream",
     "text": [
      "W0915 19:54:18.916260 140228422731520 deprecation.py:323] From /home/fmello/.local/share/virtualenvs/2019-MSc_Thesis-4pUnri4s/lib/python3.7/site-packages/tensorflow/python/training/saver.py:1276: checkpoint_exists (from tensorflow.python.training.checkpoint_management) is deprecated and will be removed in a future version.\n",
      "Instructions for updating:\n",
      "Use standard file APIs to check for files with this prefix.\n"
     ]
    }
   ],
   "source": [
    "STEPS_TO_TEST = 300\n",
    "\n",
    "# testSpecs = ElectricalSystemSpecs(\n",
    "#         loads=[LoadSpecs(id_=\"L1\", basePower=3.0, noiseLevel=0.1)],\n",
    "#         generators=[\n",
    "#             GeneratorSpecs(id_=\"G1\", basePower=1.5, costProfile=COST_PRESETS.COAL, minPower=0.5, maxPower=2.0, noiseLevel=0.0),\n",
    "#             GeneratorSpecs(id_=\"G2\", basePower=1.5, costProfile=COST_PRESETS.OIL, minPower=0.5, maxPower=2.0, noiseLevel=0.0),\n",
    "#         ],\n",
    "# )\n",
    "# electricalSystem, rewards = ModelTester.testAgents(testSpecs, LearningParams().modelName, STEPS_TO_TEST)\n",
    "\n",
    "\n",
    "electricalSystem, rewards = ModelTester(modelAdapter).testAgents(LearningParams().electricalSystemSpecs, LearningParams().modelName, STEPS_TO_TEST)"
   ]
  },
  {
   "cell_type": "markdown",
   "metadata": {},
   "source": [
    "Alternatively, one can plot the data to better inspect the progression"
   ]
  },
  {
   "cell_type": "code",
   "execution_count": 10,
   "metadata": {},
   "outputs": [],
   "source": [
    "import matplotlib.pyplot as plt\n",
    "from plots import plotAll, plotExperimentRewardProgression"
   ]
  },
  {
   "cell_type": "code",
   "execution_count": 11,
   "metadata": {},
   "outputs": [
    {
     "ename": "NameError",
     "evalue": "name 'LearningState' is not defined",
     "output_type": "error",
     "traceback": [
      "\u001b[0;31m---------------------------------------------------------------------------\u001b[0m",
      "\u001b[0;31mNameError\u001b[0m                                 Traceback (most recent call last)",
      "\u001b[0;32m<ipython-input-11-d91298c9cfaf>\u001b[0m in \u001b[0;36m<module>\u001b[0;34m\u001b[0m\n\u001b[0;32m----> 1\u001b[0;31m \u001b[0mplotExperimentRewardProgression\u001b[0m\u001b[0;34m(\u001b[0m\u001b[0mLearningState\u001b[0m\u001b[0;34m(\u001b[0m\u001b[0;34m)\u001b[0m\u001b[0;34m.\u001b[0m\u001b[0mmodel\u001b[0m\u001b[0;34m.\u001b[0m\u001b[0mallRewards\u001b[0m\u001b[0;34m)\u001b[0m\u001b[0;34m\u001b[0m\u001b[0;34m\u001b[0m\u001b[0m\n\u001b[0m",
      "\u001b[0;31mNameError\u001b[0m: name 'LearningState' is not defined"
     ]
    }
   ],
   "source": [
    "plotExperimentRewardProgression(LearningState().model.allRewards)"
   ]
  },
  {
   "cell_type": "markdown",
   "metadata": {},
   "source": [
    "Plot the reward progression of the model testing"
   ]
  },
  {
   "cell_type": "code",
   "execution_count": null,
   "metadata": {},
   "outputs": [],
   "source": [
    "steps = range(STEPS_TO_TEST)\n",
    "plt.scatter(steps, rewards)\n",
    "sum(rewards)"
   ]
  },
  {
   "cell_type": "markdown",
   "metadata": {},
   "source": [
    "Plot all graphs related to the electrical system state during the model testing"
   ]
  },
  {
   "cell_type": "code",
   "execution_count": null,
   "metadata": {},
   "outputs": [],
   "source": [
    "plotAll(electricalSystem.systemHistory)"
   ]
  },
  {
   "cell_type": "code",
   "execution_count": null,
   "metadata": {},
   "outputs": [],
   "source": [
    "# # Show the last episode ran during training\n",
    "from learning.learning_state import LearningState\n",
    "plotAll(LearningState().episode.electricalSystem.systemHistory)"
   ]
  },
  {
   "cell_type": "code",
   "execution_count": null,
   "metadata": {},
   "outputs": [],
   "source": []
  },
  {
   "cell_type": "code",
   "execution_count": null,
   "metadata": {},
   "outputs": [],
   "source": [
    "from learning.learning_state import LearningState\n",
    "import numpy as np\n",
    "\n",
    "rewList = LearningState().model.cummRewardList"
   ]
  },
  {
   "cell_type": "code",
   "execution_count": null,
   "metadata": {},
   "outputs": [],
   "source": [
    "LearningState().model.allRewards"
   ]
  },
  {
   "cell_type": "code",
   "execution_count": null,
   "metadata": {},
   "outputs": [],
   "source": [
    "allRewards = LearningState().model.allRewards\n",
    "\n",
    "\n",
    "for r in allRewards:\n",
    "    plt.figure()\n",
    "    plt.scatter(range(len(r)), r)\n",
    "# sum(rewards)"
   ]
  },
  {
   "cell_type": "code",
   "execution_count": null,
   "metadata": {},
   "outputs": [],
   "source": [
    "plt.scatter(range(len(rewList)), rewList)"
   ]
  },
  {
   "cell_type": "code",
   "execution_count": null,
   "metadata": {},
   "outputs": [],
   "source": [
    "from plots.plot_constants import COLOR_PALETTE, FONT_SIZES\n",
    "\n",
    "history = electricalSystem.systemHistory\n",
    "# Get series to be plotted\n",
    "stepsSeries = history.steps\n",
    "loads = history.loads\n",
    "totalLoadSeries = history.totalLoad\n",
    "generators = history.generators\n",
    "totalPowerSeries = history.totalPower\n",
    "\n",
    "plt.figure(0)\n",
    "\n",
    "# Declare colors to be used\n",
    "colorTotalLoad = COLOR_PALETTE[0]\n",
    "colorTotalPower = COLOR_PALETTE[1]\n",
    "colorsIndividualNodes = COLOR_PALETTE[3:]\n",
    "\n",
    "# Plot total power/load data\n",
    "plt.plot(stepsSeries, totalLoadSeries, color=colorTotalLoad)\n",
    "plt.plot(stepsSeries, totalPowerSeries, color=colorTotalPower)\n",
    "legendFields = ['Total Load', 'Total Power']\n",
    "\n",
    "# Multiple scenarios involve a single load, so we make it optional to plot that single load\n",
    "if(False):\n",
    "    for idx, loadId in enumerate(loads):\n",
    "        # Since num loads is variable, colors may wrap around the palette\n",
    "        loadColor = colorsIndividualNodes[idx % len(colorsIndividualNodes)]\n",
    "        loadLegend = loadId\n",
    "        loadSeries = loads[loadId]\n",
    "        plt.plot(stepsSeries, loadSeries, color=loadColor, linestyle='--')\n",
    "        legendFields.append(loadLegend)\n",
    "\n",
    "for idx, generatorId in enumerate(generators):\n",
    "    # Since num generators is variable, colors may wrap around the palette\n",
    "    generatorColor = colorsIndividualNodes[idx % len(colorsIndividualNodes)]\n",
    "    generatorLegend = generatorId\n",
    "    generatorSeries = generators[generatorId]\n",
    "    plt.plot(stepsSeries, generatorSeries, color=generatorColor)\n",
    "    legendFields.append(generatorLegend)\n",
    "    \n",
    "\n",
    "summedPow = [x + y for x, y in zip(generators.get('G1'), generators.get('G2'))]\n",
    "plt.plot(stepsSeries, summedPow, color=COLOR_PALETTE[2])\n",
    "legendFields.append(\"Summed Pow\")\n",
    "\n",
    "\n",
    "plt.legend(legendFields)\n",
    "plt.xlabel('Steps', fontsize=FONT_SIZES['AXIS_LABEL'])\n",
    "plt.ylabel('Power (pu)', fontsize=FONT_SIZES['AXIS_LABEL'])\n",
    "\n",
    "plt.title('System Power (pu) x Time (Steps)', fontsize=FONT_SIZES['TITLE'])\n",
    "\n",
    "plt.show()"
   ]
  },
  {
   "cell_type": "code",
   "execution_count": null,
   "metadata": {},
   "outputs": [],
   "source": []
  },
  {
   "cell_type": "code",
   "execution_count": null,
   "metadata": {},
   "outputs": [],
   "source": []
  },
  {
   "cell_type": "code",
   "execution_count": null,
   "metadata": {},
   "outputs": [],
   "source": []
  },
  {
   "cell_type": "code",
   "execution_count": null,
   "metadata": {},
   "outputs": [],
   "source": []
  }
 ],
 "metadata": {
  "kernelspec": {
   "display_name": "2019-MSc_Thesis-4pUnri4s",
   "language": "python",
   "name": "2019-msc_thesis-4punri4s"
  },
  "language_info": {
   "codemirror_mode": {
    "name": "ipython",
    "version": 3
   },
   "file_extension": ".py",
   "mimetype": "text/x-python",
   "name": "python",
   "nbconvert_exporter": "python",
   "pygments_lexer": "ipython3",
   "version": "3.7.3"
  }
 },
 "nbformat": 4,
 "nbformat_minor": 2
}
