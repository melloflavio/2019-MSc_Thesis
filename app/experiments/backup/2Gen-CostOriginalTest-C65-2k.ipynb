{
 "cells": [
  {
   "cell_type": "markdown",
   "metadata": {},
   "source": [
    "## Current Python Version\n",
    "\n",
    "Ensure the python version running in the jupyter kernel is the same as expected"
   ]
  },
  {
   "cell_type": "code",
   "execution_count": 1,
   "metadata": {},
   "outputs": [],
   "source": [
    "# from platform import python_version\n",
    "\n",
    "# print(python_version())\n"
   ]
  },
  {
   "cell_type": "markdown",
   "metadata": {},
   "source": [
    "List installed packages, should match the ones in the pipfile (and their dependencies)"
   ]
  },
  {
   "cell_type": "code",
   "execution_count": 2,
   "metadata": {},
   "outputs": [],
   "source": [
    "# pip list"
   ]
  },
  {
   "cell_type": "markdown",
   "metadata": {},
   "source": [
    "## Internal Module Imports\n",
    "Code required to enable project's internally defined modulos into the jupyter notebook environment"
   ]
  },
  {
   "cell_type": "code",
   "execution_count": 3,
   "metadata": {},
   "outputs": [],
   "source": [
    "import os\n",
    "import sys\n",
    "module_path = os.path.abspath(os.path.join('..'))\n",
    "if module_path not in sys.path:\n",
    "    sys.path.append(module_path)"
   ]
  },
  {
   "cell_type": "code",
   "execution_count": 4,
   "metadata": {},
   "outputs": [
    {
     "name": "stderr",
     "output_type": "stream",
     "text": [
      "/home/fmello/.local/share/virtualenvs/2019-MSc_Thesis-4pUnri4s/lib/python3.7/site-packages/tensorflow/python/framework/dtypes.py:516: FutureWarning: Passing (type, 1) or '1type' as a synonym of type is deprecated; in a future version of numpy, it will be understood as (type, (1,)) / '(1,)type'.\n",
      "  _np_qint8 = np.dtype([(\"qint8\", np.int8, 1)])\n",
      "/home/fmello/.local/share/virtualenvs/2019-MSc_Thesis-4pUnri4s/lib/python3.7/site-packages/tensorflow/python/framework/dtypes.py:517: FutureWarning: Passing (type, 1) or '1type' as a synonym of type is deprecated; in a future version of numpy, it will be understood as (type, (1,)) / '(1,)type'.\n",
      "  _np_quint8 = np.dtype([(\"quint8\", np.uint8, 1)])\n",
      "/home/fmello/.local/share/virtualenvs/2019-MSc_Thesis-4pUnri4s/lib/python3.7/site-packages/tensorflow/python/framework/dtypes.py:518: FutureWarning: Passing (type, 1) or '1type' as a synonym of type is deprecated; in a future version of numpy, it will be understood as (type, (1,)) / '(1,)type'.\n",
      "  _np_qint16 = np.dtype([(\"qint16\", np.int16, 1)])\n",
      "/home/fmello/.local/share/virtualenvs/2019-MSc_Thesis-4pUnri4s/lib/python3.7/site-packages/tensorflow/python/framework/dtypes.py:519: FutureWarning: Passing (type, 1) or '1type' as a synonym of type is deprecated; in a future version of numpy, it will be understood as (type, (1,)) / '(1,)type'.\n",
      "  _np_quint16 = np.dtype([(\"quint16\", np.uint16, 1)])\n",
      "/home/fmello/.local/share/virtualenvs/2019-MSc_Thesis-4pUnri4s/lib/python3.7/site-packages/tensorflow/python/framework/dtypes.py:520: FutureWarning: Passing (type, 1) or '1type' as a synonym of type is deprecated; in a future version of numpy, it will be understood as (type, (1,)) / '(1,)type'.\n",
      "  _np_qint32 = np.dtype([(\"qint32\", np.int32, 1)])\n",
      "/home/fmello/.local/share/virtualenvs/2019-MSc_Thesis-4pUnri4s/lib/python3.7/site-packages/tensorflow/python/framework/dtypes.py:525: FutureWarning: Passing (type, 1) or '1type' as a synonym of type is deprecated; in a future version of numpy, it will be understood as (type, (1,)) / '(1,)type'.\n",
      "  np_resource = np.dtype([(\"resource\", np.ubyte, 1)])\n",
      "/home/fmello/.local/share/virtualenvs/2019-MSc_Thesis-4pUnri4s/lib/python3.7/site-packages/tensorboard/compat/tensorflow_stub/dtypes.py:541: FutureWarning: Passing (type, 1) or '1type' as a synonym of type is deprecated; in a future version of numpy, it will be understood as (type, (1,)) / '(1,)type'.\n",
      "  _np_qint8 = np.dtype([(\"qint8\", np.int8, 1)])\n",
      "/home/fmello/.local/share/virtualenvs/2019-MSc_Thesis-4pUnri4s/lib/python3.7/site-packages/tensorboard/compat/tensorflow_stub/dtypes.py:542: FutureWarning: Passing (type, 1) or '1type' as a synonym of type is deprecated; in a future version of numpy, it will be understood as (type, (1,)) / '(1,)type'.\n",
      "  _np_quint8 = np.dtype([(\"quint8\", np.uint8, 1)])\n",
      "/home/fmello/.local/share/virtualenvs/2019-MSc_Thesis-4pUnri4s/lib/python3.7/site-packages/tensorboard/compat/tensorflow_stub/dtypes.py:543: FutureWarning: Passing (type, 1) or '1type' as a synonym of type is deprecated; in a future version of numpy, it will be understood as (type, (1,)) / '(1,)type'.\n",
      "  _np_qint16 = np.dtype([(\"qint16\", np.int16, 1)])\n",
      "/home/fmello/.local/share/virtualenvs/2019-MSc_Thesis-4pUnri4s/lib/python3.7/site-packages/tensorboard/compat/tensorflow_stub/dtypes.py:544: FutureWarning: Passing (type, 1) or '1type' as a synonym of type is deprecated; in a future version of numpy, it will be understood as (type, (1,)) / '(1,)type'.\n",
      "  _np_quint16 = np.dtype([(\"quint16\", np.uint16, 1)])\n",
      "/home/fmello/.local/share/virtualenvs/2019-MSc_Thesis-4pUnri4s/lib/python3.7/site-packages/tensorboard/compat/tensorflow_stub/dtypes.py:545: FutureWarning: Passing (type, 1) or '1type' as a synonym of type is deprecated; in a future version of numpy, it will be understood as (type, (1,)) / '(1,)type'.\n",
      "  _np_qint32 = np.dtype([(\"qint32\", np.int32, 1)])\n",
      "/home/fmello/.local/share/virtualenvs/2019-MSc_Thesis-4pUnri4s/lib/python3.7/site-packages/tensorboard/compat/tensorflow_stub/dtypes.py:550: FutureWarning: Passing (type, 1) or '1type' as a synonym of type is deprecated; in a future version of numpy, it will be understood as (type, (1,)) / '(1,)type'.\n",
      "  np_resource = np.dtype([(\"resource\", np.ubyte, 1)])\n"
     ]
    },
    {
     "ename": "ImportError",
     "evalue": "cannot import name 'CostModelTrainer' from 'learning.cost' (/mnt/c/Users/flavi/Documents/Study/City-UniLondon/Thesis/2019-MSc_Thesis/app/learning/cost/__init__.py)",
     "output_type": "error",
     "traceback": [
      "\u001b[0;31m---------------------------------------------------------------------------\u001b[0m",
      "\u001b[0;31mImportError\u001b[0m                               Traceback (most recent call last)",
      "\u001b[0;32m<ipython-input-4-b76ccb43872c>\u001b[0m in \u001b[0;36m<module>\u001b[0;34m\u001b[0m\n\u001b[1;32m     12\u001b[0m \u001b[0;31m# from learning import ModelTrainer, ModelTester, LearningParams\u001b[0m\u001b[0;34m\u001b[0m\u001b[0;34m\u001b[0m\u001b[0;34m\u001b[0m\u001b[0m\n\u001b[1;32m     13\u001b[0m \u001b[0;32mfrom\u001b[0m \u001b[0mlearning\u001b[0m \u001b[0;32mimport\u001b[0m \u001b[0mLearningParams\u001b[0m\u001b[0;34m\u001b[0m\u001b[0;34m\u001b[0m\u001b[0m\n\u001b[0;32m---> 14\u001b[0;31m \u001b[0;32mfrom\u001b[0m \u001b[0mlearning\u001b[0m\u001b[0;34m.\u001b[0m\u001b[0mcost\u001b[0m \u001b[0;32mimport\u001b[0m \u001b[0mCostModelTrainer\u001b[0m\u001b[0;34m,\u001b[0m \u001b[0mCostModelTester\u001b[0m\u001b[0;34m\u001b[0m\u001b[0;34m\u001b[0m\u001b[0m\n\u001b[0m",
      "\u001b[0;31mImportError\u001b[0m: cannot import name 'CostModelTrainer' from 'learning.cost' (/mnt/c/Users/flavi/Documents/Study/City-UniLondon/Thesis/2019-MSc_Thesis/app/learning/cost/__init__.py)"
     ]
    }
   ],
   "source": [
    "# from electricity import ElectricalSystem, Load, Generator\n",
    "from dto import (\n",
    "    COST_PRESETS, \n",
    "    ElectricalSystemSpecs, \n",
    "    EpsilonSpecs,\n",
    "    GeneratorSpecs, \n",
    "    LoadSpecs, \n",
    "    NodeStatePower, \n",
    "    SystemHistory, \n",
    "    )\n",
    "    \n",
    "# from learning import ModelTrainer, ModelTester, LearningParams\n",
    "from learning import LearningParams\n",
    "from learning.cost import CostModelTrainer, CostModelTester"
   ]
  },
  {
   "cell_type": "markdown",
   "metadata": {},
   "source": [
    "Determine the experiment params"
   ]
  },
  {
   "cell_type": "code",
   "execution_count": null,
   "metadata": {},
   "outputs": [],
   "source": [
    "from dto import EpsilonSpecs\n",
    "\n",
    "LearningParams(\n",
    "    gamma=0.9,   # Gamma (Discount)\n",
    "    tau=0.001, # Tau\n",
    "    epsilonSpecs = EpsilonSpecs( # Epsilon explore/exploit control\n",
    "        thresholdProgress = 0.6, # % of steps where decay change should happen\n",
    "        thresholdValue = 0.5, # Value at which decay change would happen\n",
    "        finalValue = 0.0001, # Value at the end of the experiment\n",
    "    ),\n",
    "    numEpisodes=2000, # Number of learning episodes to run\n",
    "    maxSteps=100,   # Number of steps per learning episode\n",
    "    bufferSize=500, # Experience Buffer Size\n",
    "    traceLength=15,     # Number of steps each sampled episode should contain\n",
    "    batchSize=40,     # Number of episodes sampled from experience buffer\n",
    "    updateInterval=4, # Run update cycle every N steps\n",
    "    electricalSystemSpecs = ElectricalSystemSpecs(\n",
    "        loads=[LoadSpecs(id_=\"L1\", basePower=3.15, noiseLevel=0)],\n",
    "        generators=[\n",
    "            GeneratorSpecs(id_=\"G1\", basePower=2, costProfile=COST_PRESETS.COAL_OLD, minPower=0.5, maxPower=5.0, noiseLevel=0.1),\n",
    "            GeneratorSpecs(id_=\"G2\", basePower=2, costProfile=COST_PRESETS.OIL_OLD, minPower=0.5, maxPower=5.0, noiseLevel=0.1),\n",
    "        ],\n",
    "    ),\n",
    "    modelName='2Gen-OriginalTest-C65-2k'\n",
    ")\n",
    "# outputDifferential = (totalOutputDestination - totalOutputOrigin)\n",
    "# costDifferential = elecSystem.getCostOptimalDiferential()\n",
    "# earnedReward = 2**(10-abs(costDifferential) - abs(outputDifferential))# TODO Calculate reward according to a given strategytrategy\n",
    "# allRewards.append(earnedReward)\n",
    "  "
   ]
  },
  {
   "cell_type": "markdown",
   "metadata": {},
   "source": [
    "Train Agents"
   ]
  },
  {
   "cell_type": "code",
   "execution_count": null,
   "metadata": {
    "scrolled": true
   },
   "outputs": [],
   "source": [
    "# allAgents = ModelTrainer.trainAgents()\n",
    "import math\n",
    "def rewardFn(totalOutputOrigin, totalOutputDestination, costDifferential, totalCost):\n",
    "    totalCost = totalCost/(10000*100.0)\n",
    "    outputDifferential = (totalOutputDestination - totalOutputOrigin)/totalOutputOrigin\n",
    "#     outputComponent = 1.0/math.cosh(5*outputDifferential) # 1/cosh(x) = sech(x) which peaks at x=0 and approaches 0 as x= +- inf\n",
    "#     costComponent = 1.0/math.cosh(costDifferential)\n",
    "#     earnedReward = 2**(10*(costComponent+outputComponent)/2)\n",
    "    earnedReward = 2**(-1*((totalCost**2)*200 + (outputDifferential**2)*500))\n",
    "    return earnedReward\n",
    "\n",
    "allAgents = CostModelTrainer.trainAgents(rewardFn)"
   ]
  },
  {
   "cell_type": "code",
   "execution_count": null,
   "metadata": {},
   "outputs": [],
   "source": [
    "STEPS_TO_TEST = 300\n",
    "\n",
    "# testSpecs = ElectricalSystemSpecs(\n",
    "#         loads=[LoadSpecs(id_=\"L1\", basePower=3.0, noiseLevel=0.1)],\n",
    "#         generators=[\n",
    "#             GeneratorSpecs(id_=\"G1\", basePower=1.5, costProfile=COST_PRESETS.COAL, minPower=0.5, maxPower=2.0, noiseLevel=0.0),\n",
    "#             GeneratorSpecs(id_=\"G2\", basePower=1.5, costProfile=COST_PRESETS.OIL, minPower=0.5, maxPower=2.0, noiseLevel=0.0),\n",
    "#         ],\n",
    "# )\n",
    "# electricalSystem, rewards = ModelTester.testAgents(testSpecs, LearningParams().modelName, STEPS_TO_TEST)\n",
    "\n",
    "\n",
    "# electricalSystem, rewards = ModelTester.testAgents(LearningParams().electricalSystemSpecs, LearningParams().modelName, STEPS_TO_TEST)\n",
    "electricalSystem, rewards = CostModelTester.testAgents(LearningParams().electricalSystemSpecs, LearningParams().modelName, rewardFn, STEPS_TO_TEST)"
   ]
  },
  {
   "cell_type": "markdown",
   "metadata": {},
   "source": [
    "Alternatively, one can plot the data to better inspect the progression"
   ]
  },
  {
   "cell_type": "code",
   "execution_count": null,
   "metadata": {},
   "outputs": [],
   "source": [
    "import matplotlib.pyplot as plt\n",
    "from plots import plotAll"
   ]
  },
  {
   "cell_type": "markdown",
   "metadata": {},
   "source": [
    "Plot the reward progression of the model testing"
   ]
  },
  {
   "cell_type": "code",
   "execution_count": null,
   "metadata": {},
   "outputs": [],
   "source": [
    "steps = range(STEPS_TO_TEST)\n",
    "plt.scatter(steps, rewards)\n",
    "sum(rewards)"
   ]
  },
  {
   "cell_type": "markdown",
   "metadata": {},
   "source": [
    "Plot all graphs related to the electrical system state during the model testing"
   ]
  },
  {
   "cell_type": "code",
   "execution_count": null,
   "metadata": {},
   "outputs": [],
   "source": [
    "# plotAll(electricalSystem.systemHistory)"
   ]
  },
  {
   "cell_type": "code",
   "execution_count": null,
   "metadata": {},
   "outputs": [],
   "source": [
    "# # Show the last episode ran during training\n",
    "from learning.learning_state import LearningState\n",
    "plotAll(LearningState().episode.electricalSystem.systemHistory)"
   ]
  },
  {
   "cell_type": "code",
   "execution_count": null,
   "metadata": {},
   "outputs": [],
   "source": [
    "for rewList in LearningState().model.allRewards:\n",
    "    steps = range(len(rewList))\n",
    "    plt.scatter(steps, rewList)\n",
    "    \n",
    "cummRew = LearningState().model.cummRewardList\n",
    "steps = range(len(cummRew))\n",
    "plt.scatter(steps, cummRew)\n",
    "# len(LearningState().model.cummRewardList)"
   ]
  },
  {
   "cell_type": "code",
   "execution_count": null,
   "metadata": {},
   "outputs": [],
   "source": [
    "from learning.learning_state import LearningState\n",
    "import numpy as np\n",
    "\n",
    "rewList = LearningState().model.cummRewardList"
   ]
  },
  {
   "cell_type": "code",
   "execution_count": null,
   "metadata": {},
   "outputs": [],
   "source": [
    "allRewards = LearningState().model.allRewards\n",
    "\n",
    "\n",
    "for r in allRewards[0::100]:\n",
    "    plt.figure()\n",
    "    plt.scatter(range(len(r)), r)\n",
    "# sum(rewards)"
   ]
  },
  {
   "cell_type": "code",
   "execution_count": null,
   "metadata": {},
   "outputs": [],
   "source": [
    "plt.scatter(range(len(rewList)), rewList)"
   ]
  },
  {
   "cell_type": "code",
   "execution_count": null,
   "metadata": {},
   "outputs": [],
   "source": [
    "from plots.plot_constants import COLOR_PALETTE, FONT_SIZES\n",
    "\n",
    "history = electricalSystem.systemHistory\n",
    "# Get series to be plotted\n",
    "stepsSeries = history.steps\n",
    "loads = history.loads\n",
    "totalLoadSeries = history.totalLoad\n",
    "generators = history.generators\n",
    "totalPowerSeries = history.totalPower\n",
    "\n",
    "plt.figure(0)\n",
    "\n",
    "# Declare colors to be used\n",
    "colorTotalLoad = COLOR_PALETTE[0]\n",
    "colorTotalPower = COLOR_PALETTE[1]\n",
    "colorsIndividualNodes = COLOR_PALETTE[3:]\n",
    "\n",
    "# Plot total power/load data\n",
    "plt.plot(stepsSeries, totalLoadSeries, color=colorTotalLoad)\n",
    "plt.plot(stepsSeries, totalPowerSeries, color=colorTotalPower)\n",
    "legendFields = ['Total Load', 'Total Power']\n",
    "\n",
    "# Multiple scenarios involve a single load, so we make it optional to plot that single load\n",
    "if(False):\n",
    "    for idx, loadId in enumerate(loads):\n",
    "        # Since num loads is variable, colors may wrap around the palette\n",
    "        loadColor = colorsIndividualNodes[idx % len(colorsIndividualNodes)]\n",
    "        loadLegend = loadId\n",
    "        loadSeries = loads[loadId]\n",
    "        plt.plot(stepsSeries, loadSeries, color=loadColor, linestyle='--')\n",
    "        legendFields.append(loadLegend)\n",
    "\n",
    "for idx, generatorId in enumerate(generators):\n",
    "    # Since num generators is variable, colors may wrap around the palette\n",
    "    generatorColor = colorsIndividualNodes[idx % len(colorsIndividualNodes)]\n",
    "    generatorLegend = generatorId\n",
    "    generatorSeries = generators[generatorId]\n",
    "    plt.plot(stepsSeries, generatorSeries, color=generatorColor)\n",
    "    legendFields.append(generatorLegend)\n",
    "    \n",
    "\n",
    "summedPow = [x + y for x, y in zip(generators.get('G1'), generators.get('G2'))]\n",
    "plt.plot(stepsSeries, summedPow, color=COLOR_PALETTE[2])\n",
    "legendFields.append(\"Summed Pow\")\n",
    "\n",
    "\n",
    "plt.legend(legendFields)\n",
    "plt.xlabel('Steps', fontsize=FONT_SIZES['AXIS_LABEL'])\n",
    "plt.ylabel('Power (pu)', fontsize=FONT_SIZES['AXIS_LABEL'])\n",
    "\n",
    "plt.title('System Power (pu) x Time (Steps)', fontsize=FONT_SIZES['TITLE'])\n",
    "\n",
    "plt.show()"
   ]
  },
  {
   "cell_type": "code",
   "execution_count": null,
   "metadata": {},
   "outputs": [],
   "source": []
  },
  {
   "cell_type": "code",
   "execution_count": null,
   "metadata": {},
   "outputs": [],
   "source": []
  },
  {
   "cell_type": "code",
   "execution_count": null,
   "metadata": {},
   "outputs": [],
   "source": []
  },
  {
   "cell_type": "code",
   "execution_count": null,
   "metadata": {},
   "outputs": [],
   "source": [
    "rewardFn(0.1, 0.2, 0.3, 0.4)"
   ]
  }
 ],
 "metadata": {
  "kernelspec": {
   "display_name": "2019-MSc_Thesis-4pUnri4s",
   "language": "python",
   "name": "2019-msc_thesis-4punri4s"
  },
  "language_info": {
   "codemirror_mode": {
    "name": "ipython",
    "version": 3
   },
   "file_extension": ".py",
   "mimetype": "text/x-python",
   "name": "python",
   "nbconvert_exporter": "python",
   "pygments_lexer": "ipython3",
   "version": "3.7.3"
  }
 },
 "nbformat": 4,
 "nbformat_minor": 2
}
