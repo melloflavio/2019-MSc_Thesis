{
 "cells": [
  {
   "cell_type": "markdown",
   "metadata": {},
   "source": [
    "## Current Python Version\n",
    "\n",
    "Ensure the python version running in the jupyter kernel is the same as expected"
   ]
  },
  {
   "cell_type": "code",
   "execution_count": null,
   "metadata": {},
   "outputs": [],
   "source": [
    "# from platform import python_version\n",
    "\n",
    "# print(python_version())\n"
   ]
  },
  {
   "cell_type": "markdown",
   "metadata": {},
   "source": [
    "List installed packages, should match the ones in the pipfile (and their dependencies)"
   ]
  },
  {
   "cell_type": "code",
   "execution_count": null,
   "metadata": {},
   "outputs": [],
   "source": [
    "# pip list"
   ]
  },
  {
   "cell_type": "markdown",
   "metadata": {},
   "source": [
    "## Internal Module Imports\n",
    "Code required to enable project's internally defined modules into the jupyter notebook environment"
   ]
  },
  {
   "cell_type": "code",
   "execution_count": null,
   "metadata": {},
   "outputs": [],
   "source": [
    "import os\n",
    "import sys\n",
    "module_path = os.path.abspath(os.path.join('..'))\n",
    "if module_path not in sys.path:\n",
    "    sys.path.append(module_path)"
   ]
  },
  {
   "cell_type": "code",
   "execution_count": null,
   "metadata": {
    "scrolled": true
   },
   "outputs": [],
   "source": [
    "from dto import (\n",
    "    COST_PRESETS, \n",
    "    ElectricalConstants,\n",
    "    ElectricalSystemSpecs, \n",
    "    EpsilonSpecs,\n",
    "    GeneratorSpecs, \n",
    "    LoadSpecs, \n",
    "    NodeStatePower, \n",
    "    SystemHistory, \n",
    "    )\n",
    "    "
   ]
  },
  {
   "cell_type": "markdown",
   "metadata": {},
   "source": [
    "Declare reward function to be used in training.\n",
    "The reward function is not strictly necessary as default values are already defined in the model adapters. The option to specify innthe notebook is to facilitate experimentation with the reward function"
   ]
  },
  {
   "cell_type": "code",
   "execution_count": null,
   "metadata": {
    "scrolled": true
   },
   "outputs": [],
   "source": [
    "def rewardFn(outputDifferentialFromOpt):\n",
    "    baseComponent = 2**(-(outputDifferentialFromOpt**2)/100)\n",
    "    peakComponent = 2**(-(outputDifferentialFromOpt**2)/2)\n",
    "    earnedReward = (baseComponent + 9*peakComponent)/10\n",
    "    \n",
    "#     print(f'outputDifferentialFromOpt:{outputDifferentialFromOpt} - baseComponent:{baseComponent} - peakComponent:{peakComponent} - reward:{earnedReward}')\n",
    "\n",
    "    return earnedReward, {'base': baseComponent, 'peak': peakComponent, 'total':earnedReward}\n"
   ]
  },
  {
   "cell_type": "markdown",
   "metadata": {},
   "source": [
    "Instantiate the model adapter\n",
    "See `./app/learning/model_adapater.py` for the structure of the class. There are a few already implemented in `./app/learning`.\n",
    "\n",
    "Please note that the signature of the reward function must match that of the default value in the model adapter"
   ]
  },
  {
   "cell_type": "code",
   "execution_count": null,
   "metadata": {},
   "outputs": [],
   "source": [
    "from learning.cost_single import ModelAdapterCostSingle as ModelAdapter\n",
    "modelAdapter = ModelAdapter(rewardFn=rewardFn)"
   ]
  },
  {
   "cell_type": "markdown",
   "metadata": {},
   "source": [
    "Declare learning parameters to be used in the experiment"
   ]
  },
  {
   "cell_type": "code",
   "execution_count": null,
   "metadata": {},
   "outputs": [],
   "source": [
    "from learning import LearningParams\n",
    "\n",
    "LearningParams(\n",
    "    gamma=0.9,   # Gamma (Discount)\n",
    "    tau=0.001, # Tau (Target network mixing factor)\n",
    "    epsilonSpecs = EpsilonSpecs( # Epsilon explore/exploit control\n",
    "        thresholdProgress = 0.6, # % of steps where decay change should happen\n",
    "        thresholdValue = 0.5, # Value at which decay change would happen\n",
    "        finalValue = 0.0001, # Value at the end of the experiment\n",
    "    ),\n",
    "    numEpisodes=100, # Number of learning episodes to run\n",
    "    maxSteps=100,   # Number of steps per learning episode\n",
    "    bufferSize=500, # Experience Buffer Size\n",
    "    traceLength=20,     # Number of steps each sampled episode should contain\n",
    "    batchSize=10,     # Number of episodes sampled from experience buffer\n",
    "    updateInterval=4, # Run update cycle every N steps\n",
    "    electricalSystemSpecs = ElectricalSystemSpecs(\n",
    "        loads=[LoadSpecs(id_=\"L1\", basePower=3.0, noiseLevel=0.01)],\n",
    "        generators=[\n",
    "            GeneratorSpecs(id_=\"G1\", basePower=1.0, costProfile=COST_PRESETS.COAL_2, minPower=0.5, maxPower=3.0, noiseLevel=0.005),\n",
    "            GeneratorSpecs(id_=\"G2\", basePower=1.0, costProfile=COST_PRESETS.OIL_2, minPower=0.5, maxPower=3.0, noiseLevel=0.005),\n",
    "            GeneratorSpecs(id_=\"G3\", basePower=1.0, costProfile=COST_PRESETS.OIL_ALTERNATE_2, minPower=0.5, maxPower=3.0, noiseLevel=0.005),\n",
    "        ],\n",
    "        shouldTrackOptimalCost=True,\n",
    "    ),\n",
    "    modelName='Template-Experiment'\n",
    ")\n",
    "\n",
    "# Droop = +infinity essentially remove the droop component from the power update equation. System reacts as if droop is disabled\n",
    "# ElectricalConstants().droop = math.inf"
   ]
  },
  {
   "cell_type": "markdown",
   "metadata": {},
   "source": [
    "Train the model"
   ]
  },
  {
   "cell_type": "code",
   "execution_count": null,
   "metadata": {},
   "outputs": [],
   "source": [
    "%%time\n",
    "allAgents = ModelTrainer(modelAdapter).trainAgents()"
   ]
  },
  {
   "cell_type": "markdown",
   "metadata": {},
   "source": [
    "Run a testing episode with the trained model"
   ]
  },
  {
   "cell_type": "code",
   "execution_count": null,
   "metadata": {},
   "outputs": [],
   "source": [
    "STEPS_TO_TEST = 300\n",
    "\n",
    "electricalSystem, rewards = ModelTester(modelAdapter).testAgents(\n",
    "    electricalSystemSpecs=LearningParams().electricalSystemSpecs, \n",
    "    modelName=LearningParams().modelName, \n",
    "    stepsToTest=STEPS_TO_TEST,\n",
    ")"
   ]
  },
  {
   "cell_type": "code",
   "execution_count": null,
   "metadata": {},
   "outputs": [],
   "source": [
    "import matplotlib.pyplot as plt\n",
    "from learning.learning_state import LearningState\n",
    "from plots import plotAll, plotExperimentRewardProgression"
   ]
  },
  {
   "cell_type": "markdown",
   "metadata": {},
   "source": [
    "Plot the reward progression of the training process"
   ]
  },
  {
   "cell_type": "code",
   "execution_count": null,
   "metadata": {},
   "outputs": [],
   "source": [
    "plotExperimentRewardProgression(LearningState().model.allRewards)"
   ]
  },
  {
   "cell_type": "markdown",
   "metadata": {
    "scrolled": true
   },
   "source": [
    "Plot the default list of graphs of the test episode (For more individual plots, see `./app/plots`"
   ]
  },
  {
   "cell_type": "markdown",
   "metadata": {},
   "source": [
    "plotAll(electricalSystem.systemHistory)"
   ]
  },
  {
   "cell_type": "code",
   "execution_count": null,
   "metadata": {},
   "outputs": [],
   "source": [
    "from plots import plotRewardComponents\n",
    "for modelName, rewardComp in rewardComponents.items():\n",
    "    print(modelName)\n",
    "    plotRewardComponents(rewardComp)"
   ]
  },
  {
   "cell_type": "markdown",
   "metadata": {},
   "source": [
    "Plot all graphs related to the electrical system state during the model testing"
   ]
  },
  {
   "cell_type": "code",
   "execution_count": null,
   "metadata": {},
   "outputs": [],
   "source": [
    "plotAll(electricalSystem.systemHistory)"
   ]
  }
 ],
 "metadata": {
  "kernelspec": {
   "display_name": "2019-MSc_Thesis-4pUnri4s",
   "language": "python",
   "name": "2019-msc_thesis-4punri4s"
  },
  "language_info": {
   "codemirror_mode": {
    "name": "ipython",
    "version": 3
   },
   "file_extension": ".py",
   "mimetype": "text/x-python",
   "name": "python",
   "nbconvert_exporter": "python",
   "pygments_lexer": "ipython3",
   "version": "3.7.3"
  }
 },
 "nbformat": 4,
 "nbformat_minor": 2
}
